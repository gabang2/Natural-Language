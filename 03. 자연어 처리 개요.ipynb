{
 "cells": [
  {
   "cell_type": "markdown",
   "id": "fd66db8c",
   "metadata": {},
   "source": [
    "# 3. 텍스트 유사도"
   ]
  },
  {
   "cell_type": "markdown",
   "id": "69147437",
   "metadata": {},
   "source": [
    "#### (1) 코사인 유사도"
   ]
  },
  {
   "cell_type": "code",
   "execution_count": 8,
   "id": "ae7e3acc",
   "metadata": {},
   "outputs": [
    {
     "name": "stdout",
     "output_type": "stream",
     "text": [
      "{'갑작스런': 1.4054651081081644, '내일': 1.4054651081081644, '놀러왔다가': 1.4054651081081644, '망연자실': 1.4054651081081644, '반가운': 1.4054651081081644, '서쪽': 1.4054651081081644, '소식': 1.4054651081081644, '오늘': 1.4054651081081644, '으로': 1.4054651081081644, '이어졌는데요': 1.4054651081081644, '인해': 1.4054651081081644, '있습니다': 1.0, '중심': 1.4054651081081644, '폭염': 1.0, '피해서': 1.4054651081081644, '하고': 1.4054651081081644, '휴일': 1.0}\n"
     ]
    },
    {
     "data": {
      "text/plain": [
       "array([[0.17952266]])"
      ]
     },
     "execution_count": 8,
     "metadata": {},
     "output_type": "execute_result"
    }
   ],
   "source": [
    "'''1. 벡터화(TF-IDF)'''\n",
    "from sklearn.feature_extraction.text import TfidfVectorizer\n",
    "sent = ('휴일 인 오늘 도 서쪽 을 중심 으로 폭염 이 이어졌는데요, 내일 은 반가운 비 소식 이 있습니다.',\n",
    "     \"폭염 을 피해서 휴일 에 놀러왔다가 갑작스런 비 로 인해 망연자실 하고 있습니다.\")\n",
    "tfidf_vectorizer = TfidfVectorizer()\n",
    "tfidf_matrix = tfidf_vectorizer.fit_transform(sent)\n",
    "idf = tfidf_vectorizer.idf_\n",
    "print(dict(zip(tfidf_vectorizer.get_feature_names(), idf)))\n",
    "\n",
    "'''2. 코사인 유사도'''\n",
    "from sklearn.metrics.pairwise import cosine_similarity\n",
    "cosine_similarity(tfidf_matrix[0:1], tfidf_matrix[1:2]) #첫 번째 문장과 두 번째 문장의 유사도"
   ]
  },
  {
   "cell_type": "code",
   "execution_count": 15,
   "id": "bc508bd5",
   "metadata": {},
   "outputs": [
    {
     "name": "stdout",
     "output_type": "stream",
     "text": [
      "[[1.28099753]]\n",
      "[[0.20491229]]\n"
     ]
    }
   ],
   "source": [
    "'''3. 유클리드 유사도'''\n",
    "from sklearn.metrics.pairwise import euclidean_distances\n",
    "import numpy as np\n",
    "\n",
    "def l1_normalize(v):\n",
    "    norm = np.sum(v)\n",
    "    return v/norm\n",
    "\n",
    "\n",
    "tfidf_norm_l1 = l1_normalize(tfidf_matrix)\n",
    "print(euclidean_distances(tfidf_matrix[0:1], tfidf_matrix[1:2]))\n",
    "print(euclidean_distances(tfidf_norm_l1[0:1], tfidf_norm_l1[1:2]))"
   ]
  },
  {
   "cell_type": "code",
   "execution_count": 16,
   "id": "d71b6f4c",
   "metadata": {},
   "outputs": [
    {
     "data": {
      "text/plain": [
       "array([[0.77865927]])"
      ]
     },
     "execution_count": 16,
     "metadata": {},
     "output_type": "execute_result"
    }
   ],
   "source": [
    "'''4. 맨하탄 유사도'''\n",
    "from sklearn.metrics.pairwise import manhattan_distances\n",
    "manhattan_distances(tfidf_norm_l1[0:1], tfidf_norm_l1[1:2])\n",
    "\n",
    "\n"
   ]
  }
 ],
 "metadata": {
  "kernelspec": {
   "display_name": "Python 3 (ipykernel)",
   "language": "python",
   "name": "python3"
  },
  "language_info": {
   "codemirror_mode": {
    "name": "ipython",
    "version": 3
   },
   "file_extension": ".py",
   "mimetype": "text/x-python",
   "name": "python",
   "nbconvert_exporter": "python",
   "pygments_lexer": "ipython3",
   "version": "3.9.12"
  }
 },
 "nbformat": 4,
 "nbformat_minor": 5
}
